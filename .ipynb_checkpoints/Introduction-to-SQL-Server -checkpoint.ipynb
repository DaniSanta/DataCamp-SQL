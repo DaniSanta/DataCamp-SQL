{
 "cells": [
  {
   "cell_type": "code",
   "execution_count": null,
   "metadata": {},
   "outputs": [],
   "source": [
    "-- SELECT the country column FROM the eurovision table\n",
    "SELECT country\n",
    "FROM eurovision;\n",
    "\n",
    "-- Select the points column\n",
    "SELECT \n",
    "  points \n",
    "FROM \n",
    "  eurovision;\n",
    "    \n",
    "-- Limit the number of rows returned\n",
    "SELECT \n",
    "  TOP (50) points \n",
    "FROM \n",
    "  eurovision;\n",
    "    \n",
    "-- Return unique countries and use an alias\n",
    "SELECT \n",
    "  DISTINCT country AS unique_country \n",
    "FROM \n",
    "  eurovision;"
   ]
  },
  {
   "cell_type": "code",
   "execution_count": null,
   "metadata": {},
   "outputs": [],
   "source": [
    "-- Select country and event_year from eurovision\n",
    "SELECT  \n",
    "  country, \n",
    "  event_year \n",
    "FROM  \n",
    "  eurovision;\n",
    "    \n",
    "-- Amend the code to select all rows and columns\n",
    "SELECT *\n",
    "FROM \n",
    "  eurovision;\n",
    "    \n",
    "-- Return all columns, restricting the percent of rows returned\n",
    "SELECT \n",
    "  TOP (50) PERCENT * \n",
    "FROM \n",
    "  eurovision;"
   ]
  },
  {
   "cell_type": "code",
   "execution_count": null,
   "metadata": {},
   "outputs": [],
   "source": [
    "-- Select the first 5 rows from the specified columns\n",
    "SELECT \n",
    "  TOP (5) description, \n",
    "  event_date \n",
    "FROM \n",
    "  grid \n",
    "  -- Order your results by the event_date column\n",
    "ORDER BY \n",
    "  event_date;"
   ]
  },
  {
   "cell_type": "code",
   "execution_count": null,
   "metadata": {},
   "outputs": [],
   "source": [
    "-- Select the top 20 rows from description, nerc_region and event_date\n",
    "SELECT \n",
    "  TOP (20) description,\n",
    "  nerc_region,\n",
    "  event_date\n",
    "FROM \n",
    "  grid \n",
    "  -- Order by nerc_region, affected_customers & event_date\n",
    "  -- Event_date should be in descending order\n",
    "ORDER BY\n",
    "  nerc_region,\n",
    "  affected_customers,\n",
    "  event_date DESC;"
   ]
  },
  {
   "cell_type": "code",
   "execution_count": null,
   "metadata": {},
   "outputs": [],
   "source": [
    "-- Select description and event_year\n",
    "SELECT \n",
    "  description, \n",
    "  event_year \n",
    "FROM \n",
    "  grid \n",
    "  -- Filter the results\n",
    "WHERE \n",
    "  description = 'Vandalism';"
   ]
  },
  {
   "cell_type": "code",
   "execution_count": null,
   "metadata": {},
   "outputs": [],
   "source": [
    "-- Select nerc_region and demand_loss_mw\n",
    "SELECT \n",
    "  nerc_region, \n",
    "  demand_loss_mw \n",
    "FROM \n",
    "  grid \n",
    "-- Retrieve rows where affected_customers is >= 500000  \n",
    "WHERE \n",
    "  affected_customers>= 500000;"
   ]
  },
  {
   "cell_type": "code",
   "execution_count": null,
   "metadata": {},
   "outputs": [],
   "source": [
    "-- Select description and affected customers\n",
    "SELECT \n",
    "  description,\n",
    "  affected_customers\n",
    "FROM \n",
    "  grid \n",
    "  -- Retrieve rows where the event_date was the 22nd December, 2013    \n",
    "WHERE \n",
    "  event_date = '2013-12-22'"
   ]
  },
  {
   "cell_type": "code",
   "execution_count": null,
   "metadata": {},
   "outputs": [],
   "source": [
    "-- Select description, affected_customers and event date\n",
    "SELECT \n",
    "  description, \n",
    "  affected_customers,\n",
    "  event_date\n",
    "FROM \n",
    "  grid \n",
    "  -- The affected_customers column should be >= 50000 and <=150000   \n",
    "WHERE \n",
    "  affected_customers BETWEEN 50000\n",
    "  AND 150000 \n",
    "   -- Define the order   \n",
    "ORDER BY\n",
    "  event_date DESC;"
   ]
  },
  {
   "cell_type": "code",
   "execution_count": null,
   "metadata": {},
   "outputs": [],
   "source": [
    "-- Retrieve all columns\n",
    "SELECT *\n",
    "FROM \n",
    "  grid \n",
    "  -- Return only rows where demand_loss_mw is missing or unknown  \n",
    "WHERE \n",
    "  demand_loss_mw IS NULL;"
   ]
  },
  {
   "cell_type": "code",
   "execution_count": null,
   "metadata": {},
   "outputs": [],
   "source": [
    "-- Retrieve all columns\n",
    "SELECT \n",
    "  * \n",
    "FROM \n",
    "  grid \n",
    "  -- Return rows where demand_loss_mw is not missing or unknown   \n",
    "WHERE \n",
    "  demand_loss_mw IS NOT NULL;"
   ]
  },
  {
   "cell_type": "code",
   "execution_count": null,
   "metadata": {},
   "outputs": [],
   "source": [
    "-- Retrieve the song, artist and release_year columns\n",
    "SELECT \n",
    "  song, \n",
    "  artist, \n",
    "  release_year\n",
    "FROM\n",
    "  songlist;"
   ]
  },
  {
   "cell_type": "code",
   "execution_count": null,
   "metadata": {},
   "outputs": [],
   "source": [
    "-- Retrieve the song, artist and release_year columns\n",
    "SELECT \n",
    "  song, \n",
    "  artist, \n",
    "  release_year \n",
    "FROM \n",
    "  songlist \n",
    "  -- Ensure there are no missing or unknown values in the release_year column\n",
    "WHERE \n",
    "  release_year IS NOT NULL; "
   ]
  },
  {
   "cell_type": "code",
   "execution_count": null,
   "metadata": {},
   "outputs": [],
   "source": [
    "-- Retrieve the song,artist and release_year columns\n",
    "SELECT \n",
    "  song, \n",
    "  artist, \n",
    "  release_year \n",
    "FROM \n",
    "  songlist \n",
    "  -- Ensure there are no missing or unknown values in the release_year column\n",
    "WHERE \n",
    "  release_year IS NOT NULL \n",
    "  -- Arrange the results by the artist and release_year columns\n",
    "ORDER BY\n",
    "  artist, \n",
    "  release_year;"
   ]
  },
  {
   "cell_type": "code",
   "execution_count": null,
   "metadata": {},
   "outputs": [],
   "source": [
    "SELECT \n",
    "  song, \n",
    "  artist, \n",
    "  release_year\n",
    "FROM \n",
    "  songlist \n",
    "WHERE \n",
    "  -- Retrieve records greater than and including 1980\n",
    "  release_year >= 1980 \n",
    "  -- Also retrieve records up to and including 1990\n",
    "  AND release_year <= 1990 \n",
    "ORDER BY \n",
    "  artist, \n",
    "  release_year;"
   ]
  },
  {
   "cell_type": "code",
   "execution_count": null,
   "metadata": {},
   "outputs": [],
   "source": [
    "SELECT \n",
    "  artist, \n",
    "  release_year, \n",
    "  song \n",
    "FROM \n",
    "  songlist \n",
    "  -- Choose the correct artist and specify the release year\n",
    "WHERE \n",
    "  (\n",
    "    artist LIKE 'B%' \n",
    "    AND release_year = '1986'\n",
    "  ) \n",
    "  -- Or return all songs released after 1990\n",
    "  OR release_year > 1990 \n",
    "  -- Order the results\n",
    "ORDER BY \n",
    "  release_year, \n",
    "  artist, \n",
    "  song;"
   ]
  },
  {
   "cell_type": "code",
   "execution_count": null,
   "metadata": {},
   "outputs": [],
   "source": [
    "#Aggregating Data T-SQL \n",
    "-- Sum the demand_loss_mw column\n",
    "SELECT \n",
    "  SUM(demand_loss_mw) AS MRO_demand_loss\n",
    "FROM \n",
    "  grid \n",
    "WHERE\n",
    "  -- demand_loss_mw should not contain NULL values\n",
    "  demand_loss_mw is NOT NULL \n",
    "  -- and nerc_region should be 'MRO';\n",
    "  AND nerc_region = 'MRO';"
   ]
  },
  {
   "cell_type": "code",
   "execution_count": null,
   "metadata": {},
   "outputs": [],
   "source": [
    "-- Obtain a count of 'grid_id'\n",
    "SELECT \n",
    "  COUNT(grid_id) AS grid_total \n",
    "FROM \n",
    "  grid;\n",
    "\n",
    "-- Obtain a count of 'grid_id'\n",
    "SELECT \n",
    "  COUNT(grid_id) AS RFC_count\n",
    "FROM \n",
    "  grid\n",
    "-- Restrict to rows where the nerc_region is 'RFC'\n",
    "WHERE\n",
    "  nerc_region = 'RFC';"
   ]
  },
  {
   "cell_type": "code",
   "execution_count": null,
   "metadata": {},
   "outputs": [],
   "source": [
    "-- Find the minimum number of affected customers\n",
    "SELECT \n",
    "  MIN(affected_customers) AS min_affected_customers \n",
    "FROM \n",
    "  grid\n",
    "-- Only retrieve rows where demand_loss_mw has a value\n",
    "WHERE\n",
    "  demand_loss_mw is NOT NULL;"
   ]
  },
  {
   "cell_type": "code",
   "execution_count": null,
   "metadata": {},
   "outputs": [],
   "source": [
    "-- Find the maximum number of affected customers\n",
    "SELECT \n",
    "  MAX(affected_customers) AS max_affected_customers \n",
    "FROM \n",
    "  grid\n",
    "-- Only retrieve rows where demand_loss_mw has a value\n",
    "WHERE \n",
    "  demand_loss_mw IS NOT NULL;"
   ]
  },
  {
   "cell_type": "code",
   "execution_count": null,
   "metadata": {},
   "outputs": [],
   "source": [
    "-- Find the average number of affected customers\n",
    "SELECT \n",
    "  AVG(affected_customers) AS avg_affected_customers \n",
    "FROM \n",
    "  grid\n",
    "-- Only retrieve rows where demand_loss_mw has a value\n",
    "WHERE \n",
    "  demand_loss_mw IS NOT NULL;"
   ]
  },
  {
   "cell_type": "code",
   "execution_count": null,
   "metadata": {},
   "outputs": [],
   "source": [
    "#strings \n",
    "-- Calculate the length of the description column\n",
    "SELECT \n",
    "  LEN(description) AS description_length \n",
    "FROM \n",
    "  grid;"
   ]
  },
  {
   "cell_type": "code",
   "execution_count": null,
   "metadata": {},
   "outputs": [],
   "source": [
    "-- Select the first 25 characters from the left of the description column\n",
    "SELECT \n",
    "  LEFT(description, 25) AS first_25_left \n",
    "FROM \n",
    "  grid;"
   ]
  },
  {
   "cell_type": "code",
   "execution_count": null,
   "metadata": {},
   "outputs": [],
   "source": [
    "-- Amend the query to select 25 characters from the  right of the description column\n",
    "SELECT \n",
    "  RIGHT(description, 25) AS last_25_right \n",
    "FROM \n",
    "  grid;"
   ]
  },
  {
   "cell_type": "code",
   "execution_count": null,
   "metadata": {},
   "outputs": [],
   "source": [
    "-- Complete the query to find `Weather` within the description column\n",
    "SELECT \n",
    "  description, \n",
    "  CHARINDEX('Weather', description) \n",
    "FROM \n",
    "  grid\n",
    "WHERE description LIKE '%Weather%';"
   ]
  },
  {
   "cell_type": "code",
   "execution_count": null,
   "metadata": {},
   "outputs": [],
   "source": [
    "-- Complete the query to find the length of `Weather'\n",
    "SELECT \n",
    "  description, \n",
    "  CHARINDEX('Weather', description) AS start_of_string,\n",
    "  LEN('Weather') AS length_of_string \n",
    "FROM \n",
    "  grid\n",
    "WHERE description LIKE '%Weather%'; "
   ]
  },
  {
   "cell_type": "code",
   "execution_count": null,
   "metadata": {},
   "outputs": [],
   "source": [
    "-- Complete the substring function to begin extracting from the correct character in the description column\n",
    "SELECT TOP (10)\n",
    "  description, \n",
    "  CHARINDEX('Weather', description) AS start_of_string, \n",
    "  LEN ('Weather') AS length_of_string, \n",
    "  SUBSTRING(\n",
    "    description, \n",
    "    15, \n",
    "    LEN(description)\n",
    "  ) AS additional_description \n",
    "FROM \n",
    "  grid\n",
    "WHERE description LIKE '%Weather%';"
   ]
  },
  {
   "cell_type": "code",
   "execution_count": null,
   "metadata": {},
   "outputs": [],
   "source": [
    "#Grouping and Having \n",
    "-- Select the region column\n",
    "SELECT \n",
    "  nerc_region,\n",
    "  -- Sum the demand_loss_mw column\n",
    "  SUM(demand_loss_mw) AS demand_loss\n",
    "FROM \n",
    "  grid\n",
    "  -- Exclude NULL values of demand_loss\n",
    "WHERE \n",
    "  demand_loss_mw IS NOT NULL\n",
    "  -- Group the results by nerc_region\n",
    "GROUP BY \n",
    "  nerc_region\n",
    "  -- Order the results in descending order of demand_loss\n",
    "ORDER BY \n",
    "  demand_loss DESC;"
   ]
  },
  {
   "cell_type": "code",
   "execution_count": null,
   "metadata": {},
   "outputs": [],
   "source": [
    "SELECT \n",
    "  nerc_region, \n",
    "  SUM (demand_loss_mw) AS demand_loss \n",
    "FROM \n",
    "  grid \n",
    "  -- Remove the WHERE clause\n",
    "GROUP BY \n",
    "  nerc_region \n",
    "  -- Enter a new HAVING clause so that the sum of demand_loss_mw is greater than 10000\n",
    "HAVING \n",
    "  SUM(demand_loss_mw) > 10000 \n",
    "ORDER BY \n",
    "  demand_loss DESC;"
   ]
  },
  {
   "cell_type": "code",
   "execution_count": null,
   "metadata": {},
   "outputs": [],
   "source": [
    "-- Retrieve the minimum and maximum place values\n",
    "SELECT \n",
    "  MIN(place) AS min_place, \n",
    "  MAX(place) AS max_place, \n",
    "  -- Retrieve the minimum and maximum points values\n",
    "  MIN(points) AS min_points, \n",
    "  MAX(points) AS max_points \n",
    "FROM \n",
    "  eurovision;"
   ]
  },
  {
   "cell_type": "code",
   "execution_count": null,
   "metadata": {},
   "outputs": [],
   "source": [
    "-- Retrieve the minimum and maximum place values\n",
    "SELECT \n",
    "  MIN(place) AS min_place, \n",
    "  MAX(place) AS max_place, \n",
    "  -- Retrieve the minimum and maximum points values\n",
    "  MIN(points) AS min_points, \n",
    "  MAX(points) AS max_points \n",
    "FROM \n",
    "  eurovision\n",
    "  -- Group by country\n",
    "GROUP BY \n",
    "  country;"
   ]
  },
  {
   "cell_type": "code",
   "execution_count": null,
   "metadata": {},
   "outputs": [],
   "source": [
    "-- Obtain a count for each country\n",
    "SELECT \n",
    "  COUNT(country) AS country_count, \n",
    "  -- Retrieve the country column\n",
    "   country,\n",
    "  -- Return the average of the Place column \n",
    "  AVG(place) AS average_place, \n",
    "  AVG(points) AS avg_points, \n",
    "  MIN(points) AS min_points, \n",
    "  MAX(points) AS max_points \n",
    "FROM \n",
    "  eurovision \n",
    "GROUP BY \n",
    "  country;"
   ]
  },
  {
   "cell_type": "code",
   "execution_count": null,
   "metadata": {},
   "outputs": [],
   "source": [
    "SELECT \n",
    "  country, \n",
    "  COUNT (country) AS country_count, \n",
    "  AVG (place) AS avg_place, \n",
    "  AVG (points) AS avg_points, \n",
    "  MIN (points) AS min_points, \n",
    "  MAX (points) AS max_points \n",
    "FROM \n",
    "  eurovision \n",
    "GROUP BY \n",
    "  country \n",
    "  -- The country column should only contain those with a count greater than 5\n",
    "HAVING\n",
    "  COUNT(country) > 5 \n",
    "  -- Arrange columns in the correct order\n",
    "ORDER BY \n",
    "  avg_place, \n",
    "  avg_points DESC;"
   ]
  },
  {
   "cell_type": "code",
   "execution_count": null,
   "metadata": {},
   "outputs": [],
   "source": [
    "#Joining Tables \n",
    "SELECT \n",
    "  track_id,\n",
    "  name AS track_name,\n",
    "  title AS album_title\n",
    "FROM track\n",
    "  -- Complete the join type and the common joining column\n",
    "INNER JOIN album on track.album_id = album.album_id;"
   ]
  },
  {
   "cell_type": "code",
   "execution_count": null,
   "metadata": {},
   "outputs": [],
   "source": [
    "-- Select album_id and title from album, and name from artist\n",
    "SELECT \n",
    "  album_id,\n",
    "  title,\n",
    "  artist.name AS artist\n",
    "  -- Enter the main source table name\n",
    "FROM album\n",
    "  -- Perform the inner join\n",
    "INNER JOIN artist on artist.artist_id = album.artist_id;"
   ]
  },
  {
   "cell_type": "code",
   "execution_count": null,
   "metadata": {},
   "outputs": [],
   "source": [
    "SELECT track_id,\n",
    "-- Enter the correct table name prefix when retrieving the name column from the track table\n",
    "  track.name AS track_name,\n",
    "  title as album_title,\n",
    "  -- Enter the correct table name prefix when retrieving the name column from the artist table\n",
    "  artist.name AS artist_name\n",
    "FROM track\n",
    "  -- Complete the matching columns to join album with track, and artist with album\n",
    "INNER JOIN album on track.album_id = album.album_id \n",
    "INNER JOIN artist on album.artist_id = artist.artist_id;"
   ]
  },
  {
   "cell_type": "code",
   "execution_count": null,
   "metadata": {},
   "outputs": [],
   "source": [
    "#Mix and Match Left and Right Joins \n",
    "SELECT \n",
    "  invoiceline_id,\n",
    "  unit_price, \n",
    "  quantity,\n",
    "  billing_state\n",
    "  -- Specify the source table\n",
    "FROM invoiceline\n",
    "  -- Complete the join to the invoice table\n",
    "LEFT JOIN invoice\n",
    "ON invoiceline.invoice_id = invoice.invoice_id;"
   ]
  },
  {
   "cell_type": "code",
   "execution_count": null,
   "metadata": {},
   "outputs": [],
   "source": [
    "-- SELECT the fully qualified album_id column from the album table\n",
    "SELECT \n",
    "  album_id,\n",
    "  title,\n",
    "  album.artist_id,\n",
    "  -- SELECT the fully qualified name column from the artist table\n",
    "  artist.name as artist\n",
    "FROM album\n",
    "-- Perform a join to return only rows that match from both tables\n",
    "INNER JOIN artist ON album.artist_id = artist.artist_id\n",
    "WHERE album.album_id IN (213,214)"
   ]
  },
  {
   "cell_type": "code",
   "execution_count": null,
   "metadata": {},
   "outputs": [],
   "source": [
    "SELECT \n",
    "  album.album_id,\n",
    "  title,\n",
    "  album.artist_id,\n",
    "  artist.name as artist\n",
    "FROM album\n",
    "INNER JOIN artist ON album.artist_id = artist.artist_id\n",
    "-- Perform the correct join type to return matches or NULLS from the track table\n",
    "LEFT JOIN track on album.album_id = track.album_id\n",
    "WHERE album.album_id IN (213,214)"
   ]
  },
  {
   "cell_type": "code",
   "execution_count": null,
   "metadata": {},
   "outputs": [],
   "source": [
    "#Union and Union ALl \n",
    "SELECT \n",
    "  album_id AS ID,\n",
    "  title AS description,\n",
    "  'Album' AS Source\n",
    "  -- Complete the FROM statement\n",
    "FROM Album\n",
    " -- Combine the result set using the relevant keyword\n",
    "UNION ALL\n",
    "SELECT \n",
    "  artist_id AS ID,\n",
    "  name AS description,\n",
    "  'Artist'  AS Source\n",
    "  -- Complete the FROM statement\n",
    "FROM Artist ;"
   ]
  },
  {
   "cell_type": "code",
   "execution_count": null,
   "metadata": {},
   "outputs": [],
   "source": [
    "-- Create the table\n",
    "CREATE TABLE results (\n",
    "\t-- Create track column\n",
    "\ttrack VARCHAR(200),\n",
    "    -- Create artist column\n",
    "\tartist VARCHAR(120),\n",
    "    -- Create album column\n",
    "\talbum VARCHAR(160),\n",
    "\t);"
   ]
  },
  {
   "cell_type": "code",
   "execution_count": null,
   "metadata": {},
   "outputs": [],
   "source": [
    "-- Create the table\n",
    "CREATE TABLE results (\n",
    "\t-- Create track column\n",
    "\ttrack VARCHAR(200),\n",
    "    -- Create artist column\n",
    "\tartist VARCHAR(120),\n",
    "    -- Create album column\n",
    "\talbum VARCHAR(160),\n",
    "\t-- Create track_length_mins\n",
    "\ttrack_length_mins INT,\n",
    "\t);"
   ]
  },
  {
   "cell_type": "code",
   "execution_count": null,
   "metadata": {},
   "outputs": [],
   "source": [
    "-- Create the table\n",
    "CREATE TABLE results (\n",
    "\t-- Create track column\n",
    "\ttrack VARCHAR(200),\n",
    "    -- Create artist column\n",
    "\tartist VARCHAR(120),\n",
    "    -- Create album column\n",
    "\talbum VARCHAR(160),\n",
    "\t-- Create track_length_mins\n",
    "\ttrack_length_mins INT,\n",
    "\t);\n",
    "\n",
    "-- Select all columns from the table\n",
    "SELECT \n",
    "  track, \n",
    "  artist, \n",
    "  album, \n",
    "  track_length_mins \n",
    "FROM \n",
    "  results;"
   ]
  },
  {
   "cell_type": "code",
   "execution_count": null,
   "metadata": {},
   "outputs": [],
   "source": [
    "#Insert, Update, & Delete\n",
    "-- Create the table\n",
    "CREATE TABLE tracks(\n",
    "\t-- Create track column\n",
    "\ttrack VARCHAR(200),\n",
    "    -- Create album column\n",
    "  \talbum VARCHAR(160),\n",
    "\t-- Create track_length_mins column\n",
    "\ttrack_length_mins INT\n",
    ");\n",
    "-- Select all columns from the new table\n",
    "SELECT \n",
    "  * \n",
    "FROM \n",
    "  tracks;"
   ]
  },
  {
   "cell_type": "code",
   "execution_count": null,
   "metadata": {},
   "outputs": [],
   "source": [
    "-- Create the table\n",
    "CREATE TABLE tracks(\n",
    "  -- Create track column\n",
    "  track VARCHAR(200), \n",
    "  -- Create album column\n",
    "  album VARCHAR(160), \n",
    "  -- Create track_length_mins column\n",
    "  track_length_mins INT\n",
    ");\n",
    "-- Complete the statement to enter the data to the table     \n",
    "INSERT INTO tracks \n",
    "-- Specify the destination columns\n",
    "(track, album, track_length_mins) \n",
    "-- Insert the appropriate values for track, album and track length\n",
    "VALUES \n",
    "  ('Basket Case', 'Dookie', 3);\n",
    "-- Select all columns from the new table\n",
    "SELECT \n",
    "  * \n",
    "FROM \n",
    "  tracks;"
   ]
  },
  {
   "cell_type": "code",
   "execution_count": null,
   "metadata": {},
   "outputs": [],
   "source": [
    "-- Select the album\n",
    "SELECT \n",
    "  title \n",
    "FROM \n",
    "  album\n",
    "WHERE \n",
    "  album_id = 213;"
   ]
  },
  {
   "cell_type": "code",
   "execution_count": null,
   "metadata": {},
   "outputs": [],
   "source": [
    "-- Select the album\n",
    "SELECT \n",
    "  title \n",
    "FROM \n",
    "  album \n",
    "WHERE \n",
    "  album_id = 213;\n",
    "-- UPDATE the title of the album\n",
    "UPDATE \n",
    "  album \n",
    "SET \n",
    "  title = 'Pure Cult: The Best Of The Cult' \n",
    "WHERE \n",
    "  album_id = 213;\n",
    "-- Run the query again\n",
    "SELECT \n",
    "  title \n",
    "FROM \n",
    "  album\n",
    "WHERE \n",
    "  album_id = 213;"
   ]
  },
  {
   "cell_type": "code",
   "execution_count": null,
   "metadata": {},
   "outputs": [],
   "source": [
    "-- Run the query\n",
    "SELECT \n",
    "  * \n",
    "FROM \n",
    "  album \n",
    "  -- DELETE the record\n",
    "DELETE FROM \n",
    "  album \n",
    "WHERE \n",
    "  album_id = 1 \n",
    "  -- Run the query again\n",
    "SELECT \n",
    "  * \n",
    "FROM \n",
    "  album;"
   ]
  },
  {
   "cell_type": "code",
   "execution_count": null,
   "metadata": {},
   "outputs": [],
   "source": [
    "#Declare Yourself \n",
    "-- Declare the variable @region, and specify the data type of the variable\n",
    "DECLARE @region VARCHAR(10)\n",
    "\n",
    "-- Declare the variable @region\n",
    "DECLARE @region VARCHAR(10)\n",
    "\n",
    "-- Update the variable value\n",
    "SET @region = 'RFC'"
   ]
  },
  {
   "cell_type": "code",
   "execution_count": null,
   "metadata": {},
   "outputs": [],
   "source": [
    " -- Declare the variable @region\n",
    "DECLARE @region VARCHAR(10)\n",
    "\n",
    "-- Update the variable value\n",
    "SET @region = 'RFC'\n",
    "\n",
    "SELECT description,\n",
    "       nerc_region,\n",
    "       demand_loss_mw,\n",
    "       affected_customers\n",
    "FROM grid\n",
    "WHERE nerc_region = @region;"
   ]
  },
  {
   "cell_type": "code",
   "execution_count": null,
   "metadata": {},
   "outputs": [],
   "source": [
    "-- Declare @start\n",
    "DECLARE @start DATE\n",
    "\n",
    "-- Declare @stop\n",
    "DECLARE @stop DATE\n",
    "\n",
    "-- SET @start to '2014-01-24'\n",
    "SET @start = '2014-01-24'\n",
    "\n",
    "-- SET @stop to '2014-07-02'\n",
    "SET @stop = '2014-07-02';"
   ]
  },
  {
   "cell_type": "code",
   "execution_count": null,
   "metadata": {},
   "outputs": [],
   "source": [
    "-- Declare @start\n",
    "DECLARE @start DATE\n",
    "\n",
    "-- Declare @stop\n",
    "DECLARE @stop DATE\n",
    "\n",
    "-- Declare @affected\n",
    "DECLARE @affected INT\n",
    "\n",
    "-- SET @start to '2014-01-24'\n",
    "SET @start = '2014-01-24'\n",
    "\n",
    "-- SET @stop to '2014-07-02'\n",
    "SET @stop  = '2014-07-02'\n",
    "\n",
    "-- Set @affected to 5000\n",
    "SET @affected = 5000;"
   ]
  },
  {
   "cell_type": "code",
   "execution_count": null,
   "metadata": {},
   "outputs": [],
   "source": [
    "-- Declare your variables\n",
    "DECLARE @start DATE\n",
    "DECLARE @stop DATE\n",
    "DECLARE @affected INT;\n",
    "-- SET the relevant values for each variable\n",
    "SET @start = '2014-01-24'\n",
    "SET @stop  = '2014-07-02'\n",
    "SET @affected =  5000 ;\n",
    "\n",
    "SELECT \n",
    "  description,\n",
    "  nerc_region,\n",
    "  demand_loss_mw,\n",
    "  affected_customers\n",
    "FROM \n",
    "  grid\n",
    "-- Specify the date range of the event_date and the value for @affected\n",
    "WHERE event_date BETWEEN @start AND @stop\n",
    "AND affected_customers >= @affected;"
   ]
  },
  {
   "cell_type": "code",
   "execution_count": null,
   "metadata": {},
   "outputs": [],
   "source": [
    "SELECT  album.title AS album_title,\n",
    "  artist.name as artist,\n",
    "  MAX(track.milliseconds / (1000 * 60) % 60 ) AS max_track_length_mins\n",
    "-- Name the temp table #maxtracks\n",
    "INTO #maxtracks\n",
    "FROM album\n",
    "-- Join album to artist using artist_id\n",
    "INNER JOIN artist ON album.artist_id = artist.artist_id\n",
    "-- Join track to album using album_id\n",
    "JOIN track ON album.album_id = track.album_id\n",
    "GROUP BY artist.artist_id, album.title, artist.name,album.album_id\n",
    "-- Run the final SELECT query to retrieve the results from the temporary table\n",
    "SELECT album_title, artist, max_track_length_mins\n",
    "FROM  #maxtracks\n",
    "ORDER BY max_track_length_mins DESC, artist;"
   ]
  }
 ],
 "metadata": {
  "kernelspec": {
   "display_name": "Python 3",
   "language": "python",
   "name": "python3"
  },
  "language_info": {
   "codemirror_mode": {
    "name": "ipython",
    "version": 3
   },
   "file_extension": ".py",
   "mimetype": "text/x-python",
   "name": "python",
   "nbconvert_exporter": "python",
   "pygments_lexer": "ipython3",
   "version": "3.7.4"
  }
 },
 "nbformat": 4,
 "nbformat_minor": 2
}
